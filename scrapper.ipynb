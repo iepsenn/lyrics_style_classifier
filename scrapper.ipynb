{
 "cells": [
  {
   "cell_type": "code",
   "execution_count": 1,
   "metadata": {},
   "outputs": [
    {
     "name": "stdout",
     "output_type": "stream",
     "text": [
      "Scrapping from https://www.letras.mus.br/\n",
      "\n"
     ]
    }
   ],
   "source": [
    "import pandas as pd\n",
    "import requests\n",
    "from bs4 import BeautifulSoup\n",
    "from time import sleep\n",
    "\n",
    "styles = ['axe', 'sertanejo', 'gospelreligioso', 'bossa-nova', 'forro', 'mpb', 'samba']\n",
    "\n",
    "link = \"https://www.letras.mus.br/\"\n",
    "\n",
    "print(\"Scrapping from {}\\n\".format(link))"
   ]
  },
  {
   "cell_type": "code",
   "execution_count": 2,
   "metadata": {},
   "outputs": [
    {
     "name": "stdout",
     "output_type": "stream",
     "text": [
      "https://www.letras.mus.br/mais-acessadas/samba\n"
     ]
    }
   ],
   "source": [
    "estilo = \"mais-acessadas/samba\"\n",
    "\n",
    "to_request = link + estilo\n",
    "\n",
    "print(to_request)"
   ]
  },
  {
   "cell_type": "code",
   "execution_count": 10,
   "metadata": {},
   "outputs": [],
   "source": [
    "import random\n",
    "\n",
    "def get_lyrics_link(lyrics_number, style):\n",
    "    \n",
    "    lyric_style = \"mais-acessadas/\" + str(style)\n",
    "    to_request = link + lyric_style\n",
    "    \n",
    "    try:\n",
    "        req = requests.get(to_request)\n",
    "    except:\n",
    "        if req.status_code != 200:\n",
    "            print('Requisição falhou!!!')\n",
    "            content = req.content\n",
    "            exit(1)\n",
    "    else:\n",
    "        if req.status_code == 200:\n",
    "            print('Requisição ok!!!')\n",
    "            content = req.content\n",
    "\n",
    "    soup = BeautifulSoup(content, 'html.parser')\n",
    "    lyrics_redirection = soup.findAll('ol', {\"class\": \"top-list_mus cnt-list--col1-3\"})\n",
    "\n",
    "    lyrics_list = lyrics_redirection\n",
    "    #lyrics = pd.read_html(lyrics_list)\n",
    "\n",
    "    #lyrics_list\n",
    "    #print(books_list)    \n",
    "    \n",
    "    links = []\n",
    "    for a in lyrics_list:\n",
    "        anchors = a.findAll('a', href=True)\n",
    "        #print(anchors)\n",
    "        for href in anchors:\n",
    "            #print(link['href'])\n",
    "            lyrics_link = link + href['href']\n",
    "            #print(lyrics_link)\n",
    "            links.append(lyrics_link)\n",
    "\n",
    "    #useful_links = [l for l in links if l[-3:]=='pdf']\n",
    "\n",
    "    #for l in useful_links:\n",
    "    #    print(l)\n",
    "    #return links[:lyrics_number]\n",
    "    return random.sample(links, lyrics_number)"
   ]
  },
  {
   "cell_type": "code",
   "execution_count": 12,
   "metadata": {},
   "outputs": [
    {
     "name": "stdout",
     "output_type": "stream",
     "text": [
      "Requisição ok!!!\n"
     ]
    },
    {
     "data": {
      "text/plain": [
       "['https://www.letras.mus.br//chiquinha-gonzaga/386811/',\n",
       " 'https://www.letras.mus.br//fundo-de-quintal/137568/',\n",
       " 'https://www.letras.mus.br//paulinho-da-viola/48052/',\n",
       " 'https://www.letras.mus.br//martinho-da-vila/47310/',\n",
       " 'https://www.letras.mus.br//matias-damasio/nada-mudou/']"
      ]
     },
     "execution_count": 12,
     "metadata": {},
     "output_type": "execute_result"
    }
   ],
   "source": [
    "get_lyrics_link(5, \"samba\")"
   ]
  },
  {
   "cell_type": "code",
   "execution_count": 166,
   "metadata": {},
   "outputs": [],
   "source": [
    "import random\n",
    "import os\n",
    "\n",
    "def get_lyrics(links):\n",
    "    \n",
    "    to_request = links[0]\n",
    "    print(to_request)\n",
    "    \n",
    "    try:\n",
    "        req = requests.get(to_request)\n",
    "    except:\n",
    "        if req.status_code != 200:\n",
    "            print('Requisição falhou!!!')\n",
    "            content = req.content\n",
    "            exit(1)\n",
    "    else:\n",
    "        if req.status_code == 200:\n",
    "            print('Requisição ok!!!')\n",
    "            content = req.content\n",
    "\n",
    "    soup = BeautifulSoup(content, 'html.parser')\n",
    "    lyrics_redirection = soup.findAll('article')\n",
    "    title = soup.findAll('div', {'class': 'cnt-head_title'})\n",
    "    \n",
    "    #print(\"title: {}\".format(title))\n",
    "    \n",
    "    #song = (str([t.findAll('h1')for t in title][0]).split('<h1>')[-1]).split('</h1>')[0]\n",
    "    #artist = str([t.findAll('h2')for t in title][0]).split('/')[1]\n",
    "    \n",
    "    print(\"\\nsong: {}\\nartist: {}\".format(song, artist))\n",
    "    \n",
    "    #cnt-head_title\n",
    "    lyrics_content = lyrics_redirection\n",
    "    #lyrics = pd.read_html(lyrics_list)\n",
    "\n",
    "    #lyrics_list\n",
    "    #print(lyrics_content)    \n",
    "    \n",
    "    \n",
    "    lyrics_letter = \"\"\n",
    "    for a in lyrics_content:\n",
    "        texts = a.findAll('p')\n",
    "        #print(anchors)\n",
    "        for text in texts:\n",
    "            letter = str(text)[3:-4] #to remove <p></p>\n",
    "            \n",
    "            letter = letter.split('<br>')\n",
    "            letter_ = \"\"\n",
    "            for l in letter:\n",
    "                letter_ += l + \" \"\n",
    "            \n",
    "            letter = letter_\n",
    "            \n",
    "            letter = letter.split('</br>')\n",
    "            letter_ = \"\"\n",
    "            for l in letter:\n",
    "                letter_ += l + \" \"\n",
    "           \n",
    "            letter = letter_\n",
    "            \n",
    "            letter = letter.split('<br/>')\n",
    "            letter_ = \"\"\n",
    "            for l in letter:\n",
    "                letter_ += l + \" \"\n",
    "            \n",
    "            letter = letter_\n",
    "            \n",
    "            lyrics_letter += letter + \" \"\n",
    "                \n",
    "    filename = str(song) + \"(\" + str(artist) + \").lyric\"\n",
    "    \n",
    "    os.system((\"touch %s << %s\") % (filename, lyrics_letter))\n",
    "    \n",
    "    #return lyrics_letter"
   ]
  },
  {
   "cell_type": "code",
   "execution_count": 167,
   "metadata": {},
   "outputs": [
    {
     "name": "stdout",
     "output_type": "stream",
     "text": [
      "Requisição ok!!!\n",
      "https://www.letras.mus.br//luiz-americo/897227/\n",
      "Requisição ok!!!\n",
      "\n",
      "song: O Gás Acabou\n",
      "artist: luiz-americo\n"
     ]
    }
   ],
   "source": [
    "links = get_lyrics_link(5, \"samba\")\n",
    "get_lyrics(links)"
   ]
  },
  {
   "cell_type": "code",
   "execution_count": null,
   "metadata": {},
   "outputs": [],
   "source": []
  }
 ],
 "metadata": {
  "kernelspec": {
   "display_name": "Python 3",
   "language": "python",
   "name": "python3"
  },
  "language_info": {
   "codemirror_mode": {
    "name": "ipython",
    "version": 3
   },
   "file_extension": ".py",
   "mimetype": "text/x-python",
   "name": "python",
   "nbconvert_exporter": "python",
   "pygments_lexer": "ipython3",
   "version": "3.7.2"
  }
 },
 "nbformat": 4,
 "nbformat_minor": 2
}
