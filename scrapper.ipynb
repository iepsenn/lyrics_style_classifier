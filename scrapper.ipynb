{
  "nbformat": 4,
  "nbformat_minor": 0,
  "metadata": {
    "colab": {
      "name": "scrapper.ipynb",
      "version": "0.3.2",
      "provenance": []
    },
    "language_info": {
      "codemirror_mode": {
        "name": "ipython",
        "version": 3
      },
      "file_extension": ".py",
      "mimetype": "text/x-python",
      "name": "python",
      "nbconvert_exporter": "python",
      "pygments_lexer": "ipython3",
      "version": "3.7.2"
    },
    "kernelspec": {
      "display_name": "Python 3",
      "language": "python",
      "name": "python3"
    }
  },
  "cells": [
    {
      "cell_type": "code",
      "metadata": {
        "id": "6XZvleVkfPSU",
        "colab_type": "code",
        "colab": {
          "base_uri": "https://localhost:8080/",
          "height": 52
        },
        "outputId": "5774cd75-b809-4aba-a4ea-fcebb4a6d022"
      },
      "source": [
        "import pandas as pd\n",
        "import requests\n",
        "from bs4 import BeautifulSoup\n",
        "from time import sleep\n",
        "\n",
        "styles = ['axe', 'sertanejo', 'gospelreligioso', 'bossa-nova', 'forro', 'mpb', 'samba']\n",
        "\n",
        "link = \"https://www.letras.mus.br/\"\n",
        "\n",
        "print(\"Scrapping from {}\\n\".format(link))"
      ],
      "execution_count": 1,
      "outputs": [
        {
          "output_type": "stream",
          "text": [
            "Scrapping from https://www.letras.mus.br/\n",
            "\n"
          ],
          "name": "stdout"
        }
      ]
    },
    {
      "cell_type": "code",
      "metadata": {
        "id": "JdHEOeJ_fPSi",
        "colab_type": "code",
        "colab": {
          "base_uri": "https://localhost:8080/",
          "height": 34
        },
        "outputId": "16451667-b55a-4c77-e84e-906ce9d95e07"
      },
      "source": [
        "estilo = \"mais-acessadas/samba\"\n",
        "\n",
        "to_request = link + estilo\n",
        "\n",
        "print(to_request)"
      ],
      "execution_count": 2,
      "outputs": [
        {
          "output_type": "stream",
          "text": [
            "https://www.letras.mus.br/mais-acessadas/samba\n"
          ],
          "name": "stdout"
        }
      ]
    },
    {
      "cell_type": "code",
      "metadata": {
        "id": "jY4BXy2sfPSo",
        "colab_type": "code",
        "colab": {}
      },
      "source": [
        "import random\n",
        "\n",
        "def get_lyrics_link(lyrics_number, style):\n",
        "    \n",
        "    lyric_style = \"mais-acessadas/\" + str(style)\n",
        "    to_request = link + lyric_style\n",
        "    \n",
        "    try:\n",
        "        req = requests.get(to_request)\n",
        "    except:\n",
        "        if req.status_code != 200:\n",
        "            print('Requisição falhou!!!')\n",
        "            content = req.content\n",
        "            exit(1)\n",
        "    else:\n",
        "        if req.status_code == 200:\n",
        "            print('Requisição ok!!!')\n",
        "            content = req.content\n",
        "\n",
        "    soup = BeautifulSoup(content, 'html.parser')\n",
        "    lyrics_redirection = soup.findAll('ol', {\"class\": \"top-list_mus cnt-list--col1-3\"})\n",
        "\n",
        "    lyrics_list = lyrics_redirection\n",
        "    #lyrics = pd.read_html(lyrics_list)\n",
        "\n",
        "    #lyrics_list\n",
        "    #print(books_list)    \n",
        "    \n",
        "    links = []\n",
        "    for a in lyrics_list:\n",
        "        anchors = a.findAll('a', href=True)\n",
        "        #print(anchors)\n",
        "        for href in anchors:\n",
        "            #print(link['href'])\n",
        "            lyrics_link = link + href['href']\n",
        "            #print(lyrics_link)\n",
        "            links.append(lyrics_link)\n",
        "\n",
        "    #useful_links = [l for l in links if l[-3:]=='pdf']\n",
        "\n",
        "    #for l in useful_links:\n",
        "    #    print(l)\n",
        "    #return links[:lyrics_number]\n",
        "    return random.sample(links, lyrics_number)"
      ],
      "execution_count": 0,
      "outputs": []
    },
    {
      "cell_type": "code",
      "metadata": {
        "id": "ZoH6y6HGfPSu",
        "colab_type": "code",
        "colab": {
          "base_uri": "https://localhost:8080/",
          "height": 121
        },
        "outputId": "4ab0626d-5a06-4f6b-e47d-f1ec8cad3668"
      },
      "source": [
        "get_lyrics_link(5, \"samba\")"
      ],
      "execution_count": 4,
      "outputs": [
        {
          "output_type": "stream",
          "text": [
            "Requisição ok!!!\n"
          ],
          "name": "stdout"
        },
        {
          "output_type": "execute_result",
          "data": {
            "text/plain": [
              "['https://www.letras.mus.br//bezerra-da-silva/65178/',\n",
              " 'https://www.letras.mus.br//jorge-aragao/932376/',\n",
              " 'https://www.letras.mus.br//roberto-ribeiro/1673945/',\n",
              " 'https://www.letras.mus.br//samba-de-mesa/1330377/',\n",
              " 'https://www.letras.mus.br//adoniran-barbosa/559067/']"
            ]
          },
          "metadata": {
            "tags": []
          },
          "execution_count": 4
        }
      ]
    },
    {
      "cell_type": "code",
      "metadata": {
        "id": "nF3jLOggfPS0",
        "colab_type": "code",
        "colab": {}
      },
      "source": [
        "import random\n",
        "import os\n",
        "from time import sleep \n",
        "\n",
        "def get_lyrics(links, style):\n",
        "    \n",
        "    print(\"Scrapping {} lyrics\".format(style))\n",
        "    \n",
        "    os.system((\"mkdir %s\")%(style))\n",
        "    \n",
        "    for to_request in links:\n",
        "        #to_request = links[0]\n",
        "        #print(to_request)\n",
        "\n",
        "        try:\n",
        "            req = requests.get(to_request)\n",
        "        except:\n",
        "            if req.status_code != 200:\n",
        "                print('Requisição falhou!!!')\n",
        "                content = req.content\n",
        "                exit(1)\n",
        "        else:\n",
        "            if req.status_code == 200:\n",
        "                #print('Requisição ok!!!')\n",
        "                content = req.content\n",
        "\n",
        "        soup = BeautifulSoup(content, 'html.parser')\n",
        "        lyrics_redirection = soup.findAll('article')\n",
        "        title = soup.findAll('div', {'class': 'cnt-head_title'})\n",
        "\n",
        "        song = (str([t.findAll('h1')for t in title][0]).split('<h1>')[-1]).split('</h1>')[0]\n",
        "        artist = str([t.findAll('h2')for t in title][0]).split('/')[1]\n",
        "        \n",
        "             \n",
        "        lyrics_content = lyrics_redirection\n",
        "\n",
        "        lyrics_letter = \"\"\n",
        "        for a in lyrics_content:\n",
        "            texts = a.findAll('p')\n",
        "            \n",
        "            for text in texts:\n",
        "                letter = str(text)[3:-4] #to remove <p></p>\n",
        "\n",
        "                letter = letter.split('<br>')\n",
        "                letter_ = \"\"\n",
        "                for l in letter:\n",
        "                    letter_ += l + \" \"\n",
        "\n",
        "                letter = letter_\n",
        "\n",
        "                letter = letter.split('</br>')\n",
        "                letter_ = \"\"\n",
        "                for l in letter:\n",
        "                    letter_ += l + \" \"\n",
        "\n",
        "                letter = letter_\n",
        "\n",
        "                letter = letter.split('<br/>')\n",
        "                letter_ = \"\"\n",
        "                for l in letter:\n",
        "                    letter_ += l + \" \"\n",
        "\n",
        "                letter = letter_\n",
        "\n",
        "                lyrics_letter += letter + \" \"\n",
        "\n",
        "        filename = str(song) + \"(\" + str(artist) + \").lyric\"\n",
        "\n",
        "        with open(filename, \"w\") as lyric:\n",
        "            lyric.write(lyrics_letter)\n",
        "\n",
        "        lyric.close()\n",
        "        \n",
        "        sleep(2)\n",
        "     \n",
        "    os.system((\"mv *lyric %s\") % (style))\n",
        "    \n",
        "    print(\"{} lyrics scrapped suscefull\".format(style))"
      ],
      "execution_count": 0,
      "outputs": []
    },
    {
      "cell_type": "code",
      "metadata": {
        "id": "CXBOEjIwfPS5",
        "colab_type": "code",
        "colab": {
          "base_uri": "https://localhost:8080/",
          "height": 69
        },
        "outputId": "b1310d37-6ad9-409f-955c-bba064f8d1e5"
      },
      "source": [
        "links = get_lyrics_link(5, \"samba\")\n",
        "get_lyrics(links, \"samba\")"
      ],
      "execution_count": 33,
      "outputs": [
        {
          "output_type": "stream",
          "text": [
            "Requisição ok!!!\n",
            "Scrapping samba lyrics\n",
            "%s lyrics scrapped suscefull\n"
          ],
          "name": "stdout"
        }
      ]
    },
    {
      "cell_type": "code",
      "metadata": {
        "id": "91yfdhOrfPS_",
        "colab_type": "code",
        "colab": {}
      },
      "source": [
        "def scrapper(number_of_samples):\n",
        "    for style in styles:\n",
        "        links = get_lyrics_link(number_of_samples, style)\n",
        "        get_lyrics(links, style)"
      ],
      "execution_count": 0,
      "outputs": []
    },
    {
      "cell_type": "code",
      "metadata": {
        "id": "ChOyop1fleTb",
        "colab_type": "code",
        "colab": {
          "base_uri": "https://localhost:8080/",
          "height": 382
        },
        "outputId": "eb14b71f-b2b2-4e7e-a571-680de965fbff"
      },
      "source": [
        "scrapper(1)"
      ],
      "execution_count": 42,
      "outputs": [
        {
          "output_type": "stream",
          "text": [
            "Requisição ok!!!\n",
            "Scrapping axe lyrics\n",
            "axe lyrics scrapped suscefull\n",
            "Requisição ok!!!\n",
            "Scrapping sertanejo lyrics\n",
            "sertanejo lyrics scrapped suscefull\n",
            "Requisição ok!!!\n",
            "Scrapping gospelreligioso lyrics\n",
            "gospelreligioso lyrics scrapped suscefull\n",
            "Requisição ok!!!\n",
            "Scrapping bossa-nova lyrics\n",
            "bossa-nova lyrics scrapped suscefull\n",
            "Requisição ok!!!\n",
            "Scrapping forro lyrics\n",
            "forro lyrics scrapped suscefull\n",
            "Requisição ok!!!\n",
            "Scrapping mpb lyrics\n",
            "mpb lyrics scrapped suscefull\n",
            "Requisição ok!!!\n",
            "Scrapping samba lyrics\n",
            "samba lyrics scrapped suscefull\n"
          ],
          "name": "stdout"
        }
      ]
    }
  ]
}