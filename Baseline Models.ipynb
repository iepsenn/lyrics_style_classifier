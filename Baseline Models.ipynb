{
  "nbformat": 4,
  "nbformat_minor": 0,
  "metadata": {
    "colab": {
      "provenance": []
    },
    "kernelspec": {
      "name": "python3",
      "display_name": "Python 3"
    },
    "language_info": {
      "name": "python"
    }
  },
  "cells": [
    {
      "cell_type": "code",
      "source": [
        "!pip install langdetect"
      ],
      "metadata": {
        "colab": {
          "base_uri": "https://localhost:8080/"
        },
        "id": "E6tRlRgw6Qfe",
        "outputId": "23c25552-16ba-4480-bbf4-750a688c3fee"
      },
      "execution_count": 66,
      "outputs": [
        {
          "output_type": "stream",
          "name": "stdout",
          "text": [
            "Requirement already satisfied: langdetect in /usr/local/lib/python3.10/dist-packages (1.0.9)\n",
            "Requirement already satisfied: six in /usr/local/lib/python3.10/dist-packages (from langdetect) (1.16.0)\n"
          ]
        }
      ]
    },
    {
      "cell_type": "code",
      "execution_count": 67,
      "metadata": {
        "id": "14gNjQ8kmx7h"
      },
      "outputs": [],
      "source": [
        "import pandas as pd\n",
        "from langdetect import detect\n",
        "from random import sample\n",
        "from sklearn.model_selection import train_test_split\n",
        "from sklearn.feature_extraction.text import CountVectorizer\n",
        "\n",
        "\n",
        "from sklearn.tree import DecisionTreeClassifier\n",
        "from sklearn.ensemble import RandomForestClassifier\n",
        "from xgboost import XGBClassifier\n",
        "from sklearn.neural_network import MLPClassifier"
      ]
    },
    {
      "cell_type": "code",
      "source": [
        "df = pd.read_csv('lyrics_style_classifier/lyrics.csv')\n",
        "df.head()"
      ],
      "metadata": {
        "colab": {
          "base_uri": "https://localhost:8080/",
          "height": 206
        },
        "id": "gNPLOaRf2BRW",
        "outputId": "22ae4680-ccfa-451a-b2c8-3f0cd799e18b"
      },
      "execution_count": 68,
      "outputs": [
        {
          "output_type": "execute_result",
          "data": {
            "text/plain": [
              "                                               lyric label\n",
              "0  Vou dar a volta no mundo eu vou, vou ver o mun...   axe\n",
              "1  Nós duas Nós nuas E o nosso amor à toa Na boa ...   axe\n",
              "2  Quem sabe nem era pra ser nossa Aquela lua aqu...   axe\n",
              "3  Já são cinco da manhã E não dormi quase nada S...   axe\n",
              "4  Amor de verdade eu só senti Foi com você meu b...   axe"
            ],
            "text/html": [
              "\n",
              "\n",
              "  <div id=\"df-bc35798a-0fdc-48e4-b045-f125454d5aa8\">\n",
              "    <div class=\"colab-df-container\">\n",
              "      <div>\n",
              "<style scoped>\n",
              "    .dataframe tbody tr th:only-of-type {\n",
              "        vertical-align: middle;\n",
              "    }\n",
              "\n",
              "    .dataframe tbody tr th {\n",
              "        vertical-align: top;\n",
              "    }\n",
              "\n",
              "    .dataframe thead th {\n",
              "        text-align: right;\n",
              "    }\n",
              "</style>\n",
              "<table border=\"1\" class=\"dataframe\">\n",
              "  <thead>\n",
              "    <tr style=\"text-align: right;\">\n",
              "      <th></th>\n",
              "      <th>lyric</th>\n",
              "      <th>label</th>\n",
              "    </tr>\n",
              "  </thead>\n",
              "  <tbody>\n",
              "    <tr>\n",
              "      <th>0</th>\n",
              "      <td>Vou dar a volta no mundo eu vou, vou ver o mun...</td>\n",
              "      <td>axe</td>\n",
              "    </tr>\n",
              "    <tr>\n",
              "      <th>1</th>\n",
              "      <td>Nós duas Nós nuas E o nosso amor à toa Na boa ...</td>\n",
              "      <td>axe</td>\n",
              "    </tr>\n",
              "    <tr>\n",
              "      <th>2</th>\n",
              "      <td>Quem sabe nem era pra ser nossa Aquela lua aqu...</td>\n",
              "      <td>axe</td>\n",
              "    </tr>\n",
              "    <tr>\n",
              "      <th>3</th>\n",
              "      <td>Já são cinco da manhã E não dormi quase nada S...</td>\n",
              "      <td>axe</td>\n",
              "    </tr>\n",
              "    <tr>\n",
              "      <th>4</th>\n",
              "      <td>Amor de verdade eu só senti Foi com você meu b...</td>\n",
              "      <td>axe</td>\n",
              "    </tr>\n",
              "  </tbody>\n",
              "</table>\n",
              "</div>\n",
              "      <button class=\"colab-df-convert\" onclick=\"convertToInteractive('df-bc35798a-0fdc-48e4-b045-f125454d5aa8')\"\n",
              "              title=\"Convert this dataframe to an interactive table.\"\n",
              "              style=\"display:none;\">\n",
              "\n",
              "  <svg xmlns=\"http://www.w3.org/2000/svg\" height=\"24px\"viewBox=\"0 0 24 24\"\n",
              "       width=\"24px\">\n",
              "    <path d=\"M0 0h24v24H0V0z\" fill=\"none\"/>\n",
              "    <path d=\"M18.56 5.44l.94 2.06.94-2.06 2.06-.94-2.06-.94-.94-2.06-.94 2.06-2.06.94zm-11 1L8.5 8.5l.94-2.06 2.06-.94-2.06-.94L8.5 2.5l-.94 2.06-2.06.94zm10 10l.94 2.06.94-2.06 2.06-.94-2.06-.94-.94-2.06-.94 2.06-2.06.94z\"/><path d=\"M17.41 7.96l-1.37-1.37c-.4-.4-.92-.59-1.43-.59-.52 0-1.04.2-1.43.59L10.3 9.45l-7.72 7.72c-.78.78-.78 2.05 0 2.83L4 21.41c.39.39.9.59 1.41.59.51 0 1.02-.2 1.41-.59l7.78-7.78 2.81-2.81c.8-.78.8-2.07 0-2.86zM5.41 20L4 18.59l7.72-7.72 1.47 1.35L5.41 20z\"/>\n",
              "  </svg>\n",
              "      </button>\n",
              "\n",
              "\n",
              "\n",
              "    <div id=\"df-164d0555-b9a6-4a8b-8dde-b1b8f100f306\">\n",
              "      <button class=\"colab-df-quickchart\" onclick=\"quickchart('df-164d0555-b9a6-4a8b-8dde-b1b8f100f306')\"\n",
              "              title=\"Suggest charts.\"\n",
              "              style=\"display:none;\">\n",
              "\n",
              "<svg xmlns=\"http://www.w3.org/2000/svg\" height=\"24px\"viewBox=\"0 0 24 24\"\n",
              "     width=\"24px\">\n",
              "    <g>\n",
              "        <path d=\"M19 3H5c-1.1 0-2 .9-2 2v14c0 1.1.9 2 2 2h14c1.1 0 2-.9 2-2V5c0-1.1-.9-2-2-2zM9 17H7v-7h2v7zm4 0h-2V7h2v10zm4 0h-2v-4h2v4z\"/>\n",
              "    </g>\n",
              "</svg>\n",
              "      </button>\n",
              "    </div>\n",
              "\n",
              "<style>\n",
              "  .colab-df-quickchart {\n",
              "    background-color: #E8F0FE;\n",
              "    border: none;\n",
              "    border-radius: 50%;\n",
              "    cursor: pointer;\n",
              "    display: none;\n",
              "    fill: #1967D2;\n",
              "    height: 32px;\n",
              "    padding: 0 0 0 0;\n",
              "    width: 32px;\n",
              "  }\n",
              "\n",
              "  .colab-df-quickchart:hover {\n",
              "    background-color: #E2EBFA;\n",
              "    box-shadow: 0px 1px 2px rgba(60, 64, 67, 0.3), 0px 1px 3px 1px rgba(60, 64, 67, 0.15);\n",
              "    fill: #174EA6;\n",
              "  }\n",
              "\n",
              "  [theme=dark] .colab-df-quickchart {\n",
              "    background-color: #3B4455;\n",
              "    fill: #D2E3FC;\n",
              "  }\n",
              "\n",
              "  [theme=dark] .colab-df-quickchart:hover {\n",
              "    background-color: #434B5C;\n",
              "    box-shadow: 0px 1px 3px 1px rgba(0, 0, 0, 0.15);\n",
              "    filter: drop-shadow(0px 1px 2px rgba(0, 0, 0, 0.3));\n",
              "    fill: #FFFFFF;\n",
              "  }\n",
              "</style>\n",
              "\n",
              "    <script>\n",
              "      async function quickchart(key) {\n",
              "        const containerElement = document.querySelector('#' + key);\n",
              "        const charts = await google.colab.kernel.invokeFunction(\n",
              "            'suggestCharts', [key], {});\n",
              "      }\n",
              "    </script>\n",
              "\n",
              "      <script>\n",
              "\n",
              "function displayQuickchartButton(domScope) {\n",
              "  let quickchartButtonEl =\n",
              "    domScope.querySelector('#df-164d0555-b9a6-4a8b-8dde-b1b8f100f306 button.colab-df-quickchart');\n",
              "  quickchartButtonEl.style.display =\n",
              "    google.colab.kernel.accessAllowed ? 'block' : 'none';\n",
              "}\n",
              "\n",
              "        displayQuickchartButton(document);\n",
              "      </script>\n",
              "      <style>\n",
              "    .colab-df-container {\n",
              "      display:flex;\n",
              "      flex-wrap:wrap;\n",
              "      gap: 12px;\n",
              "    }\n",
              "\n",
              "    .colab-df-convert {\n",
              "      background-color: #E8F0FE;\n",
              "      border: none;\n",
              "      border-radius: 50%;\n",
              "      cursor: pointer;\n",
              "      display: none;\n",
              "      fill: #1967D2;\n",
              "      height: 32px;\n",
              "      padding: 0 0 0 0;\n",
              "      width: 32px;\n",
              "    }\n",
              "\n",
              "    .colab-df-convert:hover {\n",
              "      background-color: #E2EBFA;\n",
              "      box-shadow: 0px 1px 2px rgba(60, 64, 67, 0.3), 0px 1px 3px 1px rgba(60, 64, 67, 0.15);\n",
              "      fill: #174EA6;\n",
              "    }\n",
              "\n",
              "    [theme=dark] .colab-df-convert {\n",
              "      background-color: #3B4455;\n",
              "      fill: #D2E3FC;\n",
              "    }\n",
              "\n",
              "    [theme=dark] .colab-df-convert:hover {\n",
              "      background-color: #434B5C;\n",
              "      box-shadow: 0px 1px 3px 1px rgba(0, 0, 0, 0.15);\n",
              "      filter: drop-shadow(0px 1px 2px rgba(0, 0, 0, 0.3));\n",
              "      fill: #FFFFFF;\n",
              "    }\n",
              "  </style>\n",
              "\n",
              "      <script>\n",
              "        const buttonEl =\n",
              "          document.querySelector('#df-bc35798a-0fdc-48e4-b045-f125454d5aa8 button.colab-df-convert');\n",
              "        buttonEl.style.display =\n",
              "          google.colab.kernel.accessAllowed ? 'block' : 'none';\n",
              "\n",
              "        async function convertToInteractive(key) {\n",
              "          const element = document.querySelector('#df-bc35798a-0fdc-48e4-b045-f125454d5aa8');\n",
              "          const dataTable =\n",
              "            await google.colab.kernel.invokeFunction('convertToInteractive',\n",
              "                                                     [key], {});\n",
              "          if (!dataTable) return;\n",
              "\n",
              "          const docLinkHtml = 'Like what you see? Visit the ' +\n",
              "            '<a target=\"_blank\" href=https://colab.research.google.com/notebooks/data_table.ipynb>data table notebook</a>'\n",
              "            + ' to learn more about interactive tables.';\n",
              "          element.innerHTML = '';\n",
              "          dataTable['output_type'] = 'display_data';\n",
              "          await google.colab.output.renderOutput(dataTable, element);\n",
              "          const docLink = document.createElement('div');\n",
              "          docLink.innerHTML = docLinkHtml;\n",
              "          element.appendChild(docLink);\n",
              "        }\n",
              "      </script>\n",
              "    </div>\n",
              "  </div>\n"
            ]
          },
          "metadata": {},
          "execution_count": 68
        }
      ]
    },
    {
      "cell_type": "code",
      "source": [
        "def cat_to_num(label):\n",
        "    if label == 'axe':\n",
        "        label = 0\n",
        "    elif label == 'sertanejo':\n",
        "        label = 1\n",
        "    elif label == 'gospelreligioso':\n",
        "        label = 2\n",
        "    elif label == 'bossa-nova':\n",
        "        label = 3\n",
        "    elif label == 'forro':\n",
        "        label = 4\n",
        "    elif label == 'mpb':\n",
        "        label = 5\n",
        "    elif label == 'samba':\n",
        "        label = 6\n",
        "\n",
        "    return label\n",
        "\n"
      ],
      "metadata": {
        "id": "ULGh8ScA1uGC"
      },
      "execution_count": 69,
      "outputs": []
    },
    {
      "cell_type": "code",
      "source": [
        "df['label'] = df['label'].apply(lambda l: cat_to_num(l))\n",
        "df.dtypes\n"
      ],
      "metadata": {
        "id": "HUReRU8OqOe1",
        "colab": {
          "base_uri": "https://localhost:8080/"
        },
        "outputId": "d6cf04b7-6fe7-491c-d6fd-bc8a6a326987"
      },
      "execution_count": 70,
      "outputs": [
        {
          "output_type": "execute_result",
          "data": {
            "text/plain": [
              "lyric    object\n",
              "label     int64\n",
              "dtype: object"
            ]
          },
          "metadata": {},
          "execution_count": 70
        }
      ]
    },
    {
      "cell_type": "markdown",
      "source": [
        "Distribuição de textos por categoria"
      ],
      "metadata": {
        "id": "LYKFvtrN6v8t"
      }
    },
    {
      "cell_type": "code",
      "source": [
        "df.label.value_counts()"
      ],
      "metadata": {
        "colab": {
          "base_uri": "https://localhost:8080/"
        },
        "id": "xD25IT4u2tXt",
        "outputId": "69bbfb17-0253-486e-c66d-eeb2f5093458"
      },
      "execution_count": 71,
      "outputs": [
        {
          "output_type": "execute_result",
          "data": {
            "text/plain": [
              "0    907\n",
              "5    899\n",
              "1    897\n",
              "3    896\n",
              "4    895\n",
              "2    894\n",
              "6    893\n",
              "Name: label, dtype: int64"
            ]
          },
          "metadata": {},
          "execution_count": 71
        }
      ]
    },
    {
      "cell_type": "markdown",
      "source": [
        "Detecta letras com linguagem diferente de português e remove do dataset"
      ],
      "metadata": {
        "id": "3TUYKAiz5ARX"
      }
    },
    {
      "cell_type": "code",
      "source": [
        "not_pt = []\n",
        "for lyric, index in zip(df.lyric, df.index):\n",
        "    try:\n",
        "        if len(lyric)<=0:\n",
        "            not_pt.append(index)\n",
        "        elif(detect(lyric) != 'pt'):\n",
        "            not_pt.append(index)\n",
        "    except Exception:\n",
        "        not_pt.append(index)\n",
        "\n",
        "print(f\"Foram removidos {len(not_pt)} textos com linguagem diferente de português\")\n",
        "\n",
        "print(\"Amostras de textos excluídos:\")\n",
        "print('\\n'.join([f'{text[:100]}...' for text in df.iloc[sample(not_pt, 3)].lyric]))\n",
        "\n",
        "df.drop(not_pt, inplace=True)"
      ],
      "metadata": {
        "colab": {
          "base_uri": "https://localhost:8080/"
        },
        "id": "KFw657YP2tgE",
        "outputId": "abcdb630-9a24-4067-f6fb-19d9a4ad2b21"
      },
      "execution_count": 72,
      "outputs": [
        {
          "output_type": "stream",
          "name": "stdout",
          "text": [
            "Foram removidos 284 textos com linguagem diferente de português\n",
            "Amostras de textos excluídos:\n",
            "Sora o oshi agete Te o nobasu kimi gogatsu no koto Dou ka kite hoshii Mizugiwa made kite hoshii Tsub...\n",
            "Vagando paso la vida nomas recorriendo el mundo si quieren que se los digan yo soy un alma sin dueño...\n",
            "May Day! May Day! [SOS!] May Day! May Day! [SOS!] Kokoro o Tsuki sasu Hishi no Himeki Saa Iku ze Ore...\n"
          ]
        }
      ]
    },
    {
      "cell_type": "markdown",
      "source": [
        "Distribuição de textos por categoria após as remoções"
      ],
      "metadata": {
        "id": "DJJBXgIP6zeB"
      }
    },
    {
      "cell_type": "code",
      "source": [
        "df.label.value_counts()"
      ],
      "metadata": {
        "colab": {
          "base_uri": "https://localhost:8080/"
        },
        "id": "BaK8ozbZ26oS",
        "outputId": "ecb597af-0840-492a-f0d4-fa8695ad16e8"
      },
      "execution_count": 73,
      "outputs": [
        {
          "output_type": "execute_result",
          "data": {
            "text/plain": [
              "1    895\n",
              "4    891\n",
              "5    889\n",
              "6    886\n",
              "2    874\n",
              "3    799\n",
              "0    763\n",
              "Name: label, dtype: int64"
            ]
          },
          "metadata": {},
          "execution_count": 73
        }
      ]
    },
    {
      "cell_type": "markdown",
      "source": [
        "# Algoritmos de Machine Learning\n",
        "\n",
        "Aplica alguns algoritmos de ML para obter uma baseline para o desenvolvimento."
      ],
      "metadata": {
        "id": "oyClTj7s3iru"
      }
    },
    {
      "cell_type": "markdown",
      "source": [
        "Separa o dataset com os conjuntos para treino e teste"
      ],
      "metadata": {
        "id": "AOMSyRPC5IBI"
      }
    },
    {
      "cell_type": "code",
      "source": [
        "sentences = df.lyric.values\n",
        "y = df.label.values\n",
        "\n",
        "sentences_train, sentences_test, y_train, y_test = train_test_split(sentences, y, test_size=0.25, random_state=1000)"
      ],
      "metadata": {
        "id": "oPeSSxnY26gt"
      },
      "execution_count": 74,
      "outputs": []
    },
    {
      "cell_type": "markdown",
      "source": [
        "Aplica transformação de textos para números"
      ],
      "metadata": {
        "id": "oDQfOe6Z7KUh"
      }
    },
    {
      "cell_type": "code",
      "source": [
        "vectorizer = CountVectorizer()\n",
        "vectorizer.fit(sentences_train)\n",
        "\n",
        "x_train = vectorizer.transform(sentences_train)\n",
        "x_test = vectorizer.transform(sentences_test)\n",
        "\n",
        "x_train[0]"
      ],
      "metadata": {
        "colab": {
          "base_uri": "https://localhost:8080/"
        },
        "id": "wIDSRsUn26Zu",
        "outputId": "54ca89f9-f138-4c94-b780-3de78f200c75"
      },
      "execution_count": 75,
      "outputs": [
        {
          "output_type": "execute_result",
          "data": {
            "text/plain": [
              "<1x25324 sparse matrix of type '<class 'numpy.int64'>'\n",
              "\twith 67 stored elements in Compressed Sparse Row format>"
            ]
          },
          "metadata": {},
          "execution_count": 75
        }
      ]
    },
    {
      "cell_type": "markdown",
      "source": [],
      "metadata": {
        "id": "k4RMXzMX_MLc"
      }
    },
    {
      "cell_type": "code",
      "source": [
        "def show_model_classification_score(model_obj, name):\n",
        "    model = model_obj.fit(x_train, y_train)\n",
        "    score = model.score(x_test, y_test)\n",
        "\n",
        "    print(f\"Mean accuracy for model {name}: {score}\")"
      ],
      "metadata": {
        "id": "fkefgRGk9i04"
      },
      "execution_count": 84,
      "outputs": []
    },
    {
      "cell_type": "markdown",
      "source": [
        "Usa algortimos baseados em árvore e sem tuning para obter acurácia base"
      ],
      "metadata": {
        "id": "IU9FvD1m_lN-"
      }
    },
    {
      "cell_type": "code",
      "source": [
        "show_model_classification_score(model_obj=DecisionTreeClassifier(), name=\"Decision Tree\")\n",
        "show_model_classification_score(model_obj=RandomForestClassifier(n_estimators=20, random_state=0), name=\"Random Forest\")\n",
        "show_model_classification_score(model_obj=XGBClassifier(), name=\"XGBoost\")"
      ],
      "metadata": {
        "colab": {
          "base_uri": "https://localhost:8080/"
        },
        "id": "VTrWsBaS-TBC",
        "outputId": "c9da25ea-7d3d-420f-adc3-07e96984936c"
      },
      "execution_count": 85,
      "outputs": [
        {
          "output_type": "stream",
          "name": "stdout",
          "text": [
            "Score for model Decision Tree: 0.388\n",
            "Score for model Random Forest: 0.43533333333333335\n",
            "Score for model XGBoost: 0.5126666666666667\n"
          ]
        }
      ]
    }
  ]
}